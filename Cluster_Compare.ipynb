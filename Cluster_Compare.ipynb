{
 "cells": [
  {
   "cell_type": "code",
   "execution_count": 2,
   "metadata": {
    "collapsed": true
   },
   "outputs": [],
   "source": [
    "import pandas as pd\n",
    "import re\n",
    "import nltk\n",
    "from nltk import word_tokenize,sent_tokenize\n",
    "from nltk.tokenize import word_tokenize\n",
    "from nltk.corpus import stopwords\n",
    "import string\n",
    "from nltk.stem import PorterStemmer \n",
    "from sklearn.feature_extraction.text import TfidfVectorizer,CountVectorizer\n",
    "from sklearn.decomposition import NMF, LatentDirichletAllocation\n",
    "from sklearn.cluster import AgglomerativeClustering\n",
    "import numpy as np\n",
    "from sklearn.externals import joblib\n",
    "from sklearn.cluster import KMeans\n",
    "from sklearn.cluster import AgglomerativeClustering\n",
    "from sklearn.metrics.pairwise import cosine_similarity"
   ]
  },
  {
   "cell_type": "code",
   "execution_count": 22,
   "metadata": {},
   "outputs": [],
   "source": [
    "kmeans = pd.read_csv('C:\\\\WPI\\\\InfoRet\\\\FinalProject\\\\output\\\\Result_kmeans.csv',encoding = \"ISO-8859-1\")\n",
    "HAC=pd.read_csv('C:\\\\WPI\\\\InfoRet\\\\FinalProject\\\\output\\\\Result_HAC.csv',encoding = \"ISO-8859-1\")\n",
    "nmf=pd.read_csv('C:\\\\WPI\\\\InfoRet\\\\FinalProject\\\\output\\\\Result_nmf.csv',encoding = \"ISO-8859-1\")\n",
    "lda=pd.read_csv('C:\\\\WPI\\\\InfoRet\\\\FinalProject\\\\output\\\\Result_entire.csv',encoding = \"ISO-8859-1\")"
   ]
  },
  {
   "cell_type": "code",
   "execution_count": 23,
   "metadata": {},
   "outputs": [
    {
     "name": "stdout",
     "output_type": "stream",
     "text": [
      "   Unnamed: 0              Topic_nmf  Review_Id  Listing_Id  \\\n",
      "1           1  estee great apartment   81448263    12233830   \n",
      "2           2  estee great apartment   87108829    12233830   \n",
      "3           3  estee great apartment  110244851    12233830   \n",
      "4           4  estee great apartment   97182420    12233830   \n",
      "\n",
      "                                           Documents  \\\n",
      "1  Estee was the epitome of a great hostess and w...   \n",
      "2  Estee's apartment was the nicest airbnb I've e...   \n",
      "3  Estee is a great host, made us feel very welco...   \n",
      "4  Estee was the perfect Airbnb host. The apartme...   \n",
      "\n",
      "                                               Words  \n",
      "1  estee epitome great hostess loved place touch ...  \n",
      "2  estee apartment nicest airbnb ever stayed este...  \n",
      "3  estee great host made us feel welcome accommod...  \n",
      "4  estee perfect airbnb host apartment comfortabl...  \n"
     ]
    }
   ],
   "source": [
    "print(nmf[1:5])"
   ]
  },
  {
   "cell_type": "code",
   "execution_count": 25,
   "metadata": {},
   "outputs": [],
   "source": [
    "results_df = kmeans\n",
    "temp=HAC[['Cluster_HAC','Review_Id','Topics_HAC']]\n",
    "results_df=results_df.merge(temp, on=\"Review_Id\", how=\"outer\")\n",
    "temp=nmf[['Review_Id','Topic_nmf']]\n",
    "results_df=results_df.merge(temp, on=\"Review_Id\", how=\"outer\")\n",
    "temp=lda[['Review_Id','Topic_lda']]\n",
    "results_df=results_df.merge(temp, on=\"Review_Id\", how=\"outer\")"
   ]
  },
  {
   "cell_type": "code",
   "execution_count": 26,
   "metadata": {},
   "outputs": [
    {
     "name": "stdout",
     "output_type": "stream",
     "text": [
      "   Unnamed: 0                            Topics_Kmeans  Review_comments  \\\n",
      "1         0.0  stay, quiet, tv, nice, good, cable tv,               NaN   \n",
      "2         0.0  stay, quiet, tv, nice, good, cable tv,               NaN   \n",
      "3         0.0  stay, quiet, tv, nice, good, cable tv,               NaN   \n",
      "4         0.0  stay, quiet, tv, nice, good, cable tv,               NaN   \n",
      "\n",
      "   Review_Id  Listing_Id                                          Documents  \\\n",
      "1   42015616   7441144.0  pretty nice quiet cozy place stay toiletries s...   \n",
      "2   42015616   7441144.0  pretty nice quiet cozy place stay toiletries s...   \n",
      "3   42015616   7441144.0  pretty nice quiet cozy place stay toiletries s...   \n",
      "4   42015616   7441144.0  pretty nice quiet cozy place stay toiletries s...   \n",
      "\n",
      "   Cluster_Kmeans  Cluster_HAC  \\\n",
      "1             1.0          3.0   \n",
      "2             1.0          3.0   \n",
      "3             1.0          3.0   \n",
      "4             1.0          3.0   \n",
      "\n",
      "                                          Topics_HAC Topic_nmf  \\\n",
      "1  ['stay', 'quiet', 'tv', 'nice', 'good', 'cable...       NaN   \n",
      "2  ['stay', 'quiet', 'tv', 'nice', 'good', 'cable...       NaN   \n",
      "3  ['stay', 'quiet', 'tv', 'nice', 'good', 'cable...       NaN   \n",
      "4  ['stay', 'quiet', 'tv', 'nice', 'good', 'cable...       NaN   \n",
      "\n",
      "                            Topic_lda  \n",
      "1  quiet host neighborhood stay cable  \n",
      "2          cable good nice quiet stay  \n",
      "3     tv quiet stay neighborhood good  \n",
      "4            stay quiet tv good cable  \n"
     ]
    }
   ],
   "source": [
    "print(results_df[1:5])"
   ]
  }
 ],
 "metadata": {
  "kernelspec": {
   "display_name": "Python 3",
   "language": "python",
   "name": "python3"
  },
  "language_info": {
   "codemirror_mode": {
    "name": "ipython",
    "version": 3
   },
   "file_extension": ".py",
   "mimetype": "text/x-python",
   "name": "python",
   "nbconvert_exporter": "python",
   "pygments_lexer": "ipython3",
   "version": "3.6.3"
  }
 },
 "nbformat": 4,
 "nbformat_minor": 2
}
